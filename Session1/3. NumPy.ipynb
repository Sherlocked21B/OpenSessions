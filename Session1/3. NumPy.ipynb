{
 "cells": [
  {
   "cell_type": "markdown",
   "metadata": {},
   "source": [
    "# NumPy (Numerical Python)\n",
    "NumPy is a module that has been optimized for array calculations and works very well with the data processing library \"pandas\"<br />\n",
    "<a href=\"https://www.numpy.org\">Numpy Documentation</a>"
   ]
  },
  {
   "cell_type": "code",
   "execution_count": 1,
   "metadata": {
    "collapsed": true
   },
   "outputs": [],
   "source": [
    "import numpy as np"
   ]
  },
  {
   "cell_type": "code",
   "execution_count": 2,
   "metadata": {},
   "outputs": [
    {
     "name": "stdout",
     "output_type": "stream",
     "text": [
      "Zero matrix\n",
      " [[0. 0. 0.]\n",
      " [0. 0. 0.]]\n"
     ]
    }
   ],
   "source": [
    "z_arr = np.zeros([2,3]) # zero array. Matrix of size 2x3\n",
    "print(\"Zero matrix\\n\",z_arr)"
   ]
  },
  {
   "cell_type": "code",
   "execution_count": 3,
   "metadata": {},
   "outputs": [
    {
     "data": {
      "text/plain": [
       "array([10, 12, 14, 16, 18])"
      ]
     },
     "execution_count": 3,
     "metadata": {},
     "output_type": "execute_result"
    }
   ],
   "source": [
    "# generate an array from a range\n",
    "np.arange(10,20,2) # syntax is np.arange(start, stop, step)"
   ]
  },
  {
   "cell_type": "markdown",
   "metadata": {},
   "source": [
    "From https://docs.scipy.org/doc/numpy/user/quickstart.html\n",
    ">When arange is used with floating point arguments, it is generally not possible to predict the number of elements obtained, due to the finite floating point precision. For this reason, it is usually better to use the function linspace that receives as an argument the number of elements that we want, instead of the step:"
   ]
  },
  {
   "cell_type": "code",
   "execution_count": 4,
   "metadata": {},
   "outputs": [
    {
     "name": "stdout",
     "output_type": "stream",
     "text": [
      "Linearly spaced matrix\n",
      " [ 1.          6.44444444 11.88888889 17.33333333 22.77777778 28.22222222\n",
      " 33.66666667 39.11111111 44.55555556 50.        ]\n"
     ]
    }
   ],
   "source": [
    "z_arr = np.linspace(1,50,10) # array that starts from 1 and ends in 50 with (10-1) linear increments. \n",
    "print(\"Linearly spaced matrix\\n\",z_arr)"
   ]
  },
  {
   "cell_type": "code",
   "execution_count": 5,
   "metadata": {},
   "outputs": [
    {
     "name": "stdout",
     "output_type": "stream",
     "text": [
      "Identity matrix\n",
      " [[1. 0. 0. 0. 0. 0. 0. 0. 0. 0.]\n",
      " [0. 1. 0. 0. 0. 0. 0. 0. 0. 0.]\n",
      " [0. 0. 1. 0. 0. 0. 0. 0. 0. 0.]\n",
      " [0. 0. 0. 1. 0. 0. 0. 0. 0. 0.]\n",
      " [0. 0. 0. 0. 1. 0. 0. 0. 0. 0.]\n",
      " [0. 0. 0. 0. 0. 1. 0. 0. 0. 0.]\n",
      " [0. 0. 0. 0. 0. 0. 1. 0. 0. 0.]\n",
      " [0. 0. 0. 0. 0. 0. 0. 1. 0. 0.]\n",
      " [0. 0. 0. 0. 0. 0. 0. 0. 1. 0.]\n",
      " [0. 0. 0. 0. 0. 0. 0. 0. 0. 1.]]\n"
     ]
    }
   ],
   "source": [
    "z_arr = np.eye(10) # order 10x10\n",
    "print(\"Identity matrix\\n\",z_arr)"
   ]
  },
  {
   "cell_type": "code",
   "execution_count": 6,
   "metadata": {},
   "outputs": [
    {
     "name": "stdout",
     "output_type": "stream",
     "text": [
      "All-ones matrix\n",
      " [[1. 1. 1. 1.]\n",
      " [1. 1. 1. 1.]]\n"
     ]
    }
   ],
   "source": [
    "z_arr = np.ones([2,4])\n",
    "print(\"All-ones matrix\\n\",z_arr)"
   ]
  },
  {
   "cell_type": "code",
   "execution_count": 7,
   "metadata": {},
   "outputs": [
    {
     "name": "stdout",
     "output_type": "stream",
     "text": [
      "Random matrix\n",
      " [[21  8 25 27 32]\n",
      " [94 77 28 73 33]]\n"
     ]
    }
   ],
   "source": [
    "z_arr = np.random.randint(1,100,10).reshape(2,5)\n",
    "print(\"Random matrix\\n\",z_arr)"
   ]
  },
  {
   "cell_type": "code",
   "execution_count": 8,
   "metadata": {},
   "outputs": [
    {
     "name": "stdout",
     "output_type": "stream",
     "text": [
      "Normally distributed random matrix\n",
      " [[-1.54563374 -1.53882105  0.87968143  1.31859271  0.47002034]\n",
      " [-1.78819937 -1.44464053  0.80067606  1.10162309  0.52725453]]\n",
      "Normally distributed random matrix normalized between the integer ranges [0,255]\n",
      " [[ 19  20 218 255 185]\n",
      " [  0  28 212 237 190]]\n"
     ]
    }
   ],
   "source": [
    "z_arr = np.random.normal(0,1,10).reshape(2,5)\n",
    "print(\"Normally distributed random matrix\\n\",z_arr)\n",
    "z_arr = z_arr+abs(z_arr.min())\n",
    "z_arr = (255*z_arr/z_arr.max()).astype(int)\n",
    "print(\"Normally distributed random matrix normalized between the integer ranges [0,255]\\n\",z_arr)"
   ]
  },
  {
   "cell_type": "markdown",
   "metadata": {},
   "source": [
    "Several important and useful functions and attributes for numpy arrays (alias ndarray) can be found <a href=\"https://docs.scipy.org/doc/numpy/user/quickstart.html\">here</a>.\n",
    "A few examples are\n",
    "- ndarray.shape (order of the multidimensional array)\n",
    "- ndarray.dtype (datatype of elements in the array)\n",
    "- ndarray.ndim (number of dimensions of an array)"
   ]
  },
  {
   "cell_type": "markdown",
   "metadata": {},
   "source": [
    "## _Concatenating numpy arrays_"
   ]
  },
  {
   "cell_type": "code",
   "execution_count": 9,
   "metadata": {},
   "outputs": [
    {
     "name": "stdout",
     "output_type": "stream",
     "text": [
      "[[1 2 3]\n",
      " [4 2 6]\n",
      " [3 4 5]\n",
      " [6 3 5]]\n",
      "[[1 2 3 3 4 5]\n",
      " [4 2 6 6 3 5]]\n"
     ]
    }
   ],
   "source": [
    "a = np.array([\n",
    "    [1,2,3],\n",
    "    [4,2,6]\n",
    "])\n",
    "b = np.array([\n",
    "    [3,4,5],\n",
    "    [6,3,5]\n",
    "])\n",
    "print(np.concatenate((a,b),axis=0)) # stacking vertically (by columns)\n",
    "print(np.concatenate((a,b),axis=1)) # stacking horizontally (by rows)"
   ]
  },
  {
   "cell_type": "code",
   "execution_count": 10,
   "metadata": {},
   "outputs": [
    {
     "name": "stdout",
     "output_type": "stream",
     "text": [
      "(10, 10, 3)\n"
     ]
    }
   ],
   "source": [
    "a_arr = np.random.randint(low=0,high=255,size=100).reshape(10,10,1)\n",
    "b_arr = np.random.randint(0,255,100).reshape(10,10,1)\n",
    "c_arr = np.random.randint(0,255,100).reshape(10,10,1)\n",
    "\n",
    "d_arr = np.concatenate([a_arr,b_arr,c_arr],axis=2)\n",
    "print(d_arr.shape)"
   ]
  },
  {
   "cell_type": "code",
   "execution_count": 11,
   "metadata": {},
   "outputs": [
    {
     "data": {
      "text/plain": [
       "array([[ 26, 212,  25,  14,  22, 203,  43, 248, 151,  21],\n",
       "       [ 85,  46,  34, 120, 174, 193, 207, 233, 184, 250],\n",
       "       [120, 166, 230, 212,  22, 192,  24,  74,  41, 114],\n",
       "       [ 42, 141, 188,  41,   4,   3,  27,   9,   4, 126],\n",
       "       [186, 176, 158,  17, 233, 177, 121, 165,  49, 254],\n",
       "       [224,  17,  96, 144, 128, 170, 116, 114, 184, 188],\n",
       "       [246, 251,  22, 182, 135,  51,   7, 109, 118,  38],\n",
       "       [ 18, 102,  97, 182, 139,  15, 122,  26, 171,  30],\n",
       "       [249, 110, 204,  41, 105, 234, 242, 223,  88, 197],\n",
       "       [167,  84, 107,  67,  34, 174,  38,  73,  19,   5]])"
      ]
     },
     "execution_count": 11,
     "metadata": {},
     "output_type": "execute_result"
    }
   ],
   "source": [
    "d_arr[:,:,0]"
   ]
  },
  {
   "cell_type": "markdown",
   "metadata": {},
   "source": [
    "Flattening an array refers to collapsing all the dimensions into one."
   ]
  },
  {
   "cell_type": "code",
   "execution_count": 12,
   "metadata": {},
   "outputs": [
    {
     "name": "stdout",
     "output_type": "stream",
     "text": [
      "int32\n"
     ]
    },
    {
     "data": {
      "text/plain": [
       "array([[251,  50,  30,  18, 174,   3,  12, 184,  90, 240],\n",
       "       [ 14,  43,  58, 162,  37, 101, 243,  36,  32,  36],\n",
       "       [ 64,  15, 169, 128,  90,  66,  53, 175, 235, 161],\n",
       "       [248, 105, 200, 108,  77, 164, 151,  36, 247, 115],\n",
       "       [178,  99,  72,  61, 157, 177, 125,  60, 182,  30],\n",
       "       [224, 110, 145,  15, 197, 136,  31,  29, 177, 242],\n",
       "       [146, 117,  23,  12,  74,  21, 151, 234, 224,  25],\n",
       "       [104, 122,  68, 246,  91, 137, 177, 192, 220, 130],\n",
       "       [ 54,  44, 253, 127,  86, 163,  69, 122, 241,  92],\n",
       "       [154,  27,  22, 124, 120,  70, 227, 246, 115, 151]], dtype=int16)"
      ]
     },
     "execution_count": 12,
     "metadata": {},
     "output_type": "execute_result"
    }
   ],
   "source": [
    "# d_arr.ravel() is used to unravel the data\n",
    "# d_arr.flatten() may also be used. The difference is that ravel produces a view only while flatten produces a new \n",
    "# copy of the array\n",
    "print(d_arr.dtype)\n",
    "d_arr = d_arr.astype(np.int16) \n",
    "d_arr[:,:,1]"
   ]
  },
  {
   "cell_type": "code",
   "execution_count": 13,
   "metadata": {},
   "outputs": [
    {
     "name": "stdout",
     "output_type": "stream",
     "text": [
      "Mean by column [138.75 112.6  121.75 101.45 110.95]\n",
      "Mean by row [ 59.8 133.2  91.8 213.4 150.   89.   83.2  33.8 154.  153.2 121.8 154.4\n",
      " 167.2  64.6 107.6  72.8 141.8 196.8  91.8  61.8]\n"
     ]
    }
   ],
   "source": [
    "print(\"Mean by column\",np.mean(a_arr.reshape(20,5),axis=0))\n",
    "print(\"Mean by row\",np.mean(a_arr.reshape(20,5),axis=1))"
   ]
  },
  {
   "cell_type": "code",
   "execution_count": 14,
   "metadata": {},
   "outputs": [
    {
     "data": {
      "text/plain": [
       "<matplotlib.image.AxesImage at 0xa4e39fcbe0>"
      ]
     },
     "execution_count": 14,
     "metadata": {},
     "output_type": "execute_result"
    },
    {
     "data": {
      "image/png": "[encoded data removed]",
      "text/plain": [
       "<Figure size 432x288 with 1 Axes>"
      ]
     },
     "metadata": {},
     "output_type": "display_data"
    }
   ],
   "source": [
    "# drawing a random 10x10 pixelgrid using numpy and the graphing library matplotlib\n",
    "from matplotlib import pyplot as plt\n",
    "# ipython magic\n",
    "%matplotlib inline \n",
    "an = np.random.normal(0,1,100).reshape(10,10,1)\n",
    "bn = np.random.normal(0,1,100).reshape(10,10,1)\n",
    "cn = np.random.normal(0,1,100).reshape(10,10,1)\n",
    "dn = np.concatenate([an,bn,cn],axis=2)\n",
    "plt.imshow(np.array(dn,dtype=np.uint8),interpolation='none') # this function shows the pixel array as an image"
   ]
  },
  {
   "cell_type": "code",
   "execution_count": 15,
   "metadata": {},
   "outputs": [
    {
     "name": "stdout",
     "output_type": "stream",
     "text": [
      "[[[ 26 212  25  14  22 203  43 248 151  21]\n",
      "  [251  50  30  18 174   3  12 184  90 240]]\n",
      "\n",
      " [[ 85  46  34 120 174 193 207 233 184 250]\n",
      "  [ 14  43  58 162  37 101 243  36  32  36]]\n",
      "\n",
      " [[120 166 230 212  22 192  24  74  41 114]\n",
      "  [ 64  15 169 128  90  66  53 175 235 161]]\n",
      "\n",
      " [[ 42 141 188  41   4   3  27   9   4 126]\n",
      "  [248 105 200 108  77 164 151  36 247 115]]\n",
      "\n",
      " [[186 176 158  17 233 177 121 165  49 254]\n",
      "  [178  99  72  61 157 177 125  60 182  30]]\n",
      "\n",
      " [[224  17  96 144 128 170 116 114 184 188]\n",
      "  [224 110 145  15 197 136  31  29 177 242]]\n",
      "\n",
      " [[246 251  22 182 135  51   7 109 118  38]\n",
      "  [146 117  23  12  74  21 151 234 224  25]]\n",
      "\n",
      " [[ 18 102  97 182 139  15 122  26 171  30]\n",
      "  [104 122  68 246  91 137 177 192 220 130]]\n",
      "\n",
      " [[249 110 204  41 105 234 242 223  88 197]\n",
      "  [ 54  44 253 127  86 163  69 122 241  92]]\n",
      "\n",
      " [[167  84 107  67  34 174  38  73  19   5]\n",
      "  [154  27  22 124 120  70 227 246 115 151]]]\n"
     ]
    }
   ],
   "source": [
    "# print(a_arr.reshape(10,10))\n",
    "# print(b_arr.reshape(10,10))\n",
    "print(np.stack((a_arr.reshape(10,10),b_arr.reshape(10,10)),axis=1)) # axis values from 0 to 2 inclusive"
   ]
  },
  {
   "cell_type": "code",
   "execution_count": 16,
   "metadata": {},
   "outputs": [
    {
     "name": "stdout",
     "output_type": "stream",
     "text": [
      "[[  0   0   0   0   0   0   0   0   0   0]\n",
      " [  8 176 227  93 209  37  17 249 117 190]\n",
      " [ 83 202  25 214  87 158  57  64  30 160]\n",
      " [ 61 113 160 174  62 224 138 248 134 190]\n",
      " [ 89 248   9 201 131 168  81 203  20 176]\n",
      " [130 206 119 100 241 107 234 178 233  43]\n",
      " [ 24 183 100 166  68 196 130 197 189  92]\n",
      " [ 64  78 114  55 149   1 225 233   4  29]\n",
      " [ 19 226  73  17 149 184 253 107 185 242]\n",
      " [232  25 116 149 232 113 170 169  49  99]]\n",
      "[[  7 111  60 188  35 232  34  34 102 241]\n",
      " [  8 176 227  93 209  37  17 249 117 190]\n",
      " [ 83 202  25 214  87 158  57  64  30 160]\n",
      " [ 61 113 160 174  62 224 138 248 134 190]\n",
      " [ 89 248   9 201 131 168  81 203  20 176]\n",
      " [130 206 119 100 241 107 234 178 233  43]\n",
      " [ 24 183 100 166  68 196 130 197 189  92]\n",
      " [ 64  78 114  55 149   1 225 233   4  29]\n",
      " [ 19 226  73  17 149 184 253 107 185 242]\n",
      " [232  25 116 149 232 113 170 169  49  99]]\n"
     ]
    }
   ],
   "source": [
    "a_arr = np.random.randint(low=0,high=255,size=100).reshape(10,10,1)\n",
    "u = a_arr.flatten()\n",
    "a_arr[0]=0\n",
    "print(a_arr.reshape(10,10))\n",
    "print(u.reshape(10,10))"
   ]
  },
  {
   "cell_type": "markdown",
   "metadata": {
    "collapsed": true
   },
   "source": [
    "Differences of viewing a table and copying a part of the table:"
   ]
  },
  {
   "cell_type": "code",
   "execution_count": 17,
   "metadata": {},
   "outputs": [
    {
     "data": {
      "text/plain": [
       "array([[4, 2, 6],\n",
       "       [6, 3, 2]])"
      ]
     },
     "execution_count": 17,
     "metadata": {},
     "output_type": "execute_result"
    }
   ],
   "source": [
    "app = np.array([\n",
    "    [1,2,3],\n",
    "    [4,2,6],\n",
    "    [6,3,2],\n",
    "    [8,2,3],\n",
    "    [4,3,6],\n",
    "])\n",
    "bpp = app[1:3,:3]\n",
    "bpp"
   ]
  },
  {
   "cell_type": "code",
   "execution_count": 18,
   "metadata": {},
   "outputs": [
    {
     "name": "stdout",
     "output_type": "stream",
     "text": [
      "app carries the value:\n",
      " [[1 2 3]\n",
      " [4 2 0]\n",
      " [6 3 0]\n",
      " [8 2 3]\n",
      " [4 3 6]]\n"
     ]
    }
   ],
   "source": [
    "acopy = app.copy()\n",
    "aview = app\n",
    "bpp[:,2] = 0\n",
    "print(\"app carries the value:\\n\",app) # bpp acts as a view for app\n",
    "# print(\"acopy carries the value:\\n\",acopy)\n",
    "# print(\"aview carries the value:\\n\",aview) #useful when only changing a small fraction of the entire data table"
   ]
  },
  {
   "cell_type": "markdown",
   "metadata": {},
   "source": [
    "## Matrix Operations"
   ]
  },
  {
   "cell_type": "code",
   "execution_count": 19,
   "metadata": {},
   "outputs": [
    {
     "name": "stdout",
     "output_type": "stream",
     "text": [
      "[[12 13 10 18 14]\n",
      " [17 12 17  9 14]\n",
      " [10 12 18 11 11]\n",
      " [15 17 18 12 13]\n",
      " [14 14 16 18 11]\n",
      " [15 18 14 10 15]\n",
      " [13 14 17  9 16]\n",
      " [11 15 16 13 17]\n",
      " [18 15 13 14 11]\n",
      " [11 15 15 15 16]] \n",
      "***\n",
      " [[18 15  9 18 11]\n",
      " [16 18 11 15 12]\n",
      " [ 9 18  9  9 15]\n",
      " [18 16 13 16 18]\n",
      " [13 17 11 16 11]\n",
      " [17 15 14 11 12]\n",
      " [12 17 16 18 16]\n",
      " [12 17  9 16 12]\n",
      " [ 9 18  9 10 11]\n",
      " [15 16 12 17 11]]\n"
     ]
    }
   ],
   "source": [
    "seed = 8\n",
    "np.random.seed(seed)\n",
    "ar = np.random.randint(9,19,[10,5])\n",
    "br = np.random.randint(9,19,[10,5])\n",
    "print(ar,'\\n***\\n',br)"
   ]
  },
  {
   "cell_type": "code",
   "execution_count": 20,
   "metadata": {
    "collapsed": true
   },
   "outputs": [],
   "source": [
    "# ar.T@br vs ar*br"
   ]
  },
  {
   "cell_type": "code",
   "execution_count": 21,
   "metadata": {},
   "outputs": [
    {
     "data": {
      "text/plain": [
       "array([[14],\n",
       "       [15],\n",
       "       [17],\n",
       "       [15],\n",
       "       [10],\n",
       "       [15],\n",
       "       [13],\n",
       "       [17],\n",
       "       [10],\n",
       "       [17]])"
      ]
     },
     "execution_count": 21,
     "metadata": {},
     "output_type": "execute_result"
    }
   ],
   "source": [
    "np.random.seed(9)\n",
    "cr = np.random.randint(9,19,[10,1])\n",
    "cr"
   ]
  },
  {
   "cell_type": "code",
   "execution_count": 22,
   "metadata": {},
   "outputs": [
    {
     "data": {
      "text/plain": [
       "(10, 5)"
      ]
     },
     "execution_count": 22,
     "metadata": {},
     "output_type": "execute_result"
    }
   ],
   "source": [
    "ar.shape"
   ]
  },
  {
   "cell_type": "code",
   "execution_count": 23,
   "metadata": {},
   "outputs": [
    {
     "data": {
      "text/plain": [
       "array([[1906, 2073, 2219, 1817, 2002]])"
      ]
     },
     "execution_count": 23,
     "metadata": {},
     "output_type": "execute_result"
    }
   ],
   "source": [
    "cr.T@ar"
   ]
  },
  {
   "cell_type": "code",
   "execution_count": 24,
   "metadata": {},
   "outputs": [
    {
     "data": {
      "text/plain": [
       "(1, 10)"
      ]
     },
     "execution_count": 24,
     "metadata": {},
     "output_type": "execute_result"
    }
   ],
   "source": [
    "bc_array = np.array([[10 for x in range(10)]]) # array of shape (1, 10)\n",
    "bc_array.shape"
   ]
  },
  {
   "cell_type": "code",
   "execution_count": 25,
   "metadata": {},
   "outputs": [
    {
     "data": {
      "text/plain": [
       "array([[22, 23, 20, 28, 24],\n",
       "       [27, 22, 27, 19, 24],\n",
       "       [20, 22, 28, 21, 21],\n",
       "       [25, 27, 28, 22, 23],\n",
       "       [24, 24, 26, 28, 21],\n",
       "       [25, 28, 24, 20, 25],\n",
       "       [23, 24, 27, 19, 26],\n",
       "       [21, 25, 26, 23, 27],\n",
       "       [28, 25, 23, 24, 21],\n",
       "       [21, 25, 25, 25, 26]])"
      ]
     },
     "execution_count": 25,
     "metadata": {},
     "output_type": "execute_result"
    }
   ],
   "source": [
    "bc_array.T+ar   \n",
    "# broadcasting an array of shape (10, 1) [Transpose of bc_array which is of shape (1, 10)]\n",
    "# onto an array of shape (10, 5)"
   ]
  },
  {
   "cell_type": "code",
   "execution_count": 26,
   "metadata": {},
   "outputs": [
    {
     "data": {
      "text/plain": [
       "array([[120, 130, 100, 180, 140],\n",
       "       [170, 120, 170,  90, 140],\n",
       "       [100, 120, 180, 110, 110],\n",
       "       [150, 170, 180, 120, 130],\n",
       "       [140, 140, 160, 180, 110],\n",
       "       [150, 180, 140, 100, 150],\n",
       "       [130, 140, 170,  90, 160],\n",
       "       [110, 150, 160, 130, 170],\n",
       "       [180, 150, 130, 140, 110],\n",
       "       [110, 150, 150, 150, 160]])"
      ]
     },
     "execution_count": 26,
     "metadata": {},
     "output_type": "execute_result"
    }
   ],
   "source": [
    "bc_array.T*ar"
   ]
  },
  {
   "cell_type": "code",
   "execution_count": 27,
   "metadata": {},
   "outputs": [
    {
     "data": {
      "text/plain": [
       "array([[-2, -3,  0, -8, -4],\n",
       "       [-7, -2, -7,  1, -4],\n",
       "       [ 0, -2, -8, -1, -1],\n",
       "       [-5, -7, -8, -2, -3],\n",
       "       [-4, -4, -6, -8, -1],\n",
       "       [-5, -8, -4,  0, -5],\n",
       "       [-3, -4, -7,  1, -6],\n",
       "       [-1, -5, -6, -3, -7],\n",
       "       [-8, -5, -3, -4, -1],\n",
       "       [-1, -5, -5, -5, -6]])"
      ]
     },
     "execution_count": 27,
     "metadata": {},
     "output_type": "execute_result"
    }
   ],
   "source": [
    "bc_array.T-ar"
   ]
  },
  {
   "cell_type": "code",
   "execution_count": null,
   "metadata": {
    "collapsed": true
   },
   "outputs": [],
   "source": []
  }
 ],
 "metadata": {
  "kernelspec": {
   "display_name": "Python 3",
   "language": "python",
   "name": "python3"
  },
  "language_info": {
   "codemirror_mode": {
    "name": "ipython",
    "version": 3
   },
   "file_extension": ".py",
   "mimetype": "text/x-python",
   "name": "python",
   "nbconvert_exporter": "python",
   "pygments_lexer": "ipython3",
   "version": "3.6.3"
  }
 },
 "nbformat": 4,
 "nbformat_minor": 2
}

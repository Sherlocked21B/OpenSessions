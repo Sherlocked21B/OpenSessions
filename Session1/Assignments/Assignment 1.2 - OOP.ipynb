{
 "cells": [
  {
   "cell_type": "markdown",
   "metadata": {},
   "source": [
    "# Assignment 1.2 - OOP"
   ]
  },
  {
   "cell_type": "markdown",
   "metadata": {},
   "source": [
    "https://docs.python.org/3/tutorial/classes.html"
   ]
  },
  {
   "cell_type": "markdown",
   "metadata": {},
   "source": [
    "- The constructor is always written as a function called `__init__()`\n",
    "- It must always take as its first argument a **reference to the instance** being constructed\n",
    "- Single underscore before a member variable denotes it protected and double underscore denotes it private but it is just a convention. Accessing a private variable outside the class is possible in python."
   ]
  },
  {
   "cell_type": "markdown",
   "metadata": {},
   "source": [
    "Create a `Complex` class that can be initialized using the Cartesian co-ordinate form. Add functionality for extracting the poalr form of the complex number"
   ]
  },
  {
   "cell_type": "code",
   "execution_count": 1,
   "metadata": {
    "collapsed": true
   },
   "outputs": [],
   "source": [
    "class Complex:\n",
    "    def __init__(self):\n",
    "        # your code\n",
    "        pass\n",
    "    def polar(self):\n",
    "        #your code\n",
    "        pass"
   ]
  },
  {
   "cell_type": "code",
   "execution_count": 2,
   "metadata": {
    "collapsed": true
   },
   "outputs": [],
   "source": [
    "# Create an instance of your class.\n",
    "# your code"
   ]
  },
  {
   "cell_type": "markdown",
   "metadata": {},
   "source": [
    "## Magic Methods and Dunder functions (Double Underscore functions)\n",
    "https://docs.python.org/3/reference/datamodel.html#special-method-names\n",
    "Use appropriate dunder functions so that printing produces results as `Complex(real = <real_part>,imaginary = <imaginary_part>)`\n",
    "With the print function, if the code is as follows,\n",
    ">```python\n",
    "z = Complex(2,3)\n",
    "print(z)\n",
    "```\n",
    "\n",
    "output must be \n",
    ">```python\n",
    "2 + 3i\n",
    "```\n",
    "\n",
    "And if the code is\n",
    ">```python\n",
    "z = Complex(2,3)\n",
    "z\n",
    "```\n",
    "\n",
    "output must be\n",
    ">```python\n",
    "Complex(real = 2, imaginary = 3)\n",
    "```"
   ]
  },
  {
   "cell_type": "code",
   "execution_count": 3,
   "metadata": {
    "collapsed": true
   },
   "outputs": [],
   "source": [
    "class Complex:\n",
    "    def __init__(self):\n",
    "        # your code\n",
    "        pass\n",
    "    def polar(self):\n",
    "        #your code\n",
    "        pass\n",
    "    #implement the correct dunder functions"
   ]
  },
  {
   "cell_type": "markdown",
   "metadata": {},
   "source": [
    "## Operator Overloading\n",
    "Since the `Complex` class is a custom datatype, you can define the operations \n",
    ">`+, -, *, /, >, <, >=, <=, ==, !=`\n",
    "\n",
    "on these objects. This is known as operator overloading.\n",
    "Overload all possible operations for the `Complex` class"
   ]
  },
  {
   "cell_type": "code",
   "execution_count": 4,
   "metadata": {
    "collapsed": true
   },
   "outputs": [],
   "source": [
    "class Complex:\n",
    "    def __init__(self):\n",
    "        # your code\n",
    "        pass\n",
    "    def polar(self):\n",
    "        #your code\n",
    "        pass\n",
    "    #implement the correct dunder functions\n",
    "    #implement all possible operations (+, -, *, /, >, <, >=, <=, ==, !=)"
   ]
  },
  {
   "cell_type": "markdown",
   "metadata": {},
   "source": [
    "## Inheritance\n",
    "Inherit the properties of the `Complex` class and define a two dimensional complex number class `Complex2`"
   ]
  },
  {
   "cell_type": "code",
   "execution_count": 5,
   "metadata": {
    "collapsed": true
   },
   "outputs": [],
   "source": [
    "class Complex2:\n",
    "    #override functions that need to be overridden\n",
    "    pass"
   ]
  },
  {
   "cell_type": "code",
   "execution_count": null,
   "metadata": {
    "collapsed": true
   },
   "outputs": [],
   "source": []
  }
 ],
 "metadata": {
  "kernelspec": {
   "display_name": "Python 3",
   "language": "python",
   "name": "python3"
  },
  "language_info": {
   "codemirror_mode": {
    "name": "ipython",
    "version": 3
   },
   "file_extension": ".py",
   "mimetype": "text/x-python",
   "name": "python",
   "nbconvert_exporter": "python",
   "pygments_lexer": "ipython3",
   "version": "3.6.3"
  }
 },
 "nbformat": 4,
 "nbformat_minor": 2
}

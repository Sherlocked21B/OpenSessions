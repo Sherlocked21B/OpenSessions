{
 "cells": [
  {
   "cell_type": "markdown",
   "metadata": {},
   "source": [
    "# Assignment 1.1 - Python 101\n",
    "\n",
    "Python is an easy to learn, powerful programming language with efficient high-level data structures and object-oriented programming. Python’s elegant syntax and dynamic typing, together with its interpreted nature, make it an ideal language for scripting and rapid application development in many areas on most platforms."
   ]
  },
  {
   "cell_type": "markdown",
   "metadata": {},
   "source": [
    "### Jupyter Notebook\n",
    "What you are reading now is an example of a Jupyter Notebook. The basic concept is that of a \"notebook\" containing text and programming code. You can easily edit the notebook using your web browser, run the programs in the ipython server in the background and see the output of the programs within the notebook. This is a powerful paradigm that is well suited to machine learning research, particularly when collaborating with other people.\n",
    "For Reference:\n",
    "- https://ipython.org/notebook.html\n",
    "- https://jupyter.org/"
   ]
  },
  {
   "cell_type": "code",
   "execution_count": 1,
   "metadata": {},
   "outputs": [
    {
     "data": {
      "text/plain": [
       "54727.0"
      ]
     },
     "execution_count": 1,
     "metadata": {},
     "output_type": "execute_result"
    }
   ],
   "source": [
    "# Python also works as your basic calculator directly through the interpreter\n",
    "5**7/5*4+3-6**5 # ** is exponentation"
   ]
  },
  {
   "cell_type": "markdown",
   "metadata": {},
   "source": [
    "Declare a few variables. Set <code style=\"background-color:#dddddd\">newnum</code> as integer, <code style=\"background-color:#dddddd\">newstring</code> as string, and <code style=\"background-color:#dddddd\">mylist</code> as a list of integers (using list comprehension)."
   ]
  },
  {
   "cell_type": "code",
   "execution_count": 2,
   "metadata": {
    "collapsed": true
   },
   "outputs": [],
   "source": [
    "#Your code here\n",
    "# SHIFT + ENTER to execute a cell"
   ]
  },
  {
   "cell_type": "markdown",
   "metadata": {},
   "source": [
    "<h2>Exercise 1</h2><br>\n",
    "Iterate through the values in the list and run those numbers through a function that produces their squares."
   ]
  },
  {
   "cell_type": "code",
   "execution_count": 3,
   "metadata": {
    "collapsed": true
   },
   "outputs": [],
   "source": [
    "#Your code here"
   ]
  },
  {
   "cell_type": "markdown",
   "metadata": {},
   "source": [
    "## Exercise 2\n",
    "Find the sum of the largest 10 numbers. You may find Sorted and Sum functions useful"
   ]
  },
  {
   "cell_type": "code",
   "execution_count": 4,
   "metadata": {
    "collapsed": true
   },
   "outputs": [],
   "source": [
    "L =[20, 22, 18, 100, 40, 71, 34, 76, 94, 7, 6, 82, 3, 86, 46, 5, 36, 70, 54, 56, 57, 21, 99, 87, 40, 15, 100,\n",
    "    87, 97, 45, 87, 11, 37, 100, 46, 21, 44, 60, 32, 88, 46, 38, 31, 65, 78, 47, 20, 30, 3, 65, 14, 3, 3, 100,\n",
    "    3, 97, 42, 44, 46, 94, 64, 29, 79, 70, 27, 83, 85, 47, 98, 27, 48, 58, 51, 7, 96, 31, 79, 87, 80, 8, 96, 88,\n",
    "    4, 79, 52, 15, 57, 83, 21, 59, 25, 28, 74, 75, 70, 79, 73, 11, 7, 42]\n",
    "ans = None# your code here"
   ]
  },
  {
   "cell_type": "markdown",
   "metadata": {},
   "source": [
    "## Exercise 3\n",
    "Convert given integer input of seconds into hours, minutes, and seconds. "
   ]
  },
  {
   "cell_type": "code",
   "execution_count": 5,
   "metadata": {
    "collapsed": true
   },
   "outputs": [],
   "source": [
    "#Your code here"
   ]
  },
  {
   "cell_type": "markdown",
   "metadata": {},
   "source": [
    "## Exercise 4\n",
    "Write a function to generate a fibonacci series upto n terms."
   ]
  },
  {
   "cell_type": "code",
   "execution_count": 6,
   "metadata": {
    "collapsed": true
   },
   "outputs": [],
   "source": [
    "#Your code here"
   ]
  },
  {
   "cell_type": "markdown",
   "metadata": {},
   "source": [
    "## Exercise 5\n",
    "Calculate the sum of all prime numbers between 3000 and 42000"
   ]
  },
  {
   "cell_type": "code",
   "execution_count": 7,
   "metadata": {
    "collapsed": true
   },
   "outputs": [],
   "source": [
    "#Your code here"
   ]
  },
  {
   "cell_type": "markdown",
   "metadata": {},
   "source": [
    "## Exercise 6\n",
    "Use the split and join functions to produce the required string."
   ]
  },
  {
   "cell_type": "code",
   "execution_count": 8,
   "metadata": {
    "collapsed": true
   },
   "outputs": [],
   "source": [
    "dum_str = \"A few gems, diamonds, rubies, and I'm rich.\"\n",
    "string_to_be_produced = \"A few gems, rubies, diamonds, and I'm rich.\""
   ]
  },
  {
   "cell_type": "markdown",
   "metadata": {},
   "source": [
    "## Exercise 7\n",
    "Deal four sets of cards using the given dictionary.\n",
    "The solution looks something like this\n",
    "\n",
    "><code style=\"background-color:#eeeeee;border-radius:5px;padding:5px\">Deal 1: Ace of Spades, Queen of Hearts, 2 of Clubs and 7 of Clubs<br> Deal 2: 4 of Hearts, 5 of Clubs, Jack of Spades and Queen of Clubs<br> Deal 3: 7 of Clubs, 8 of Diamonds, 8 of Spades and 10 of Diamonds</code>\n",
    "\n",
    "The deals must be random. You will find the documentation of the [Random Module](https://docs.python.org/2/library/random.html) helpful"
   ]
  },
  {
   "cell_type": "code",
   "execution_count": 9,
   "metadata": {
    "collapsed": true
   },
   "outputs": [],
   "source": [
    "ranks = [\"Ace\"] + [str(x) for x in range(2,11)] + [\"Jack\",\"Queen\",\"King\"]\n",
    "cards = {\n",
    "    \"Spades\":ranks,\n",
    "    \"Diamonds\":ranks,\n",
    "    \"Clubs\":ranks,\n",
    "    \"Hearts\":ranks\n",
    "}\n",
    "# ans str(cards[list(cards.keys())[1]][1])+\" of \"+str(list(cards.keys())[1])"
   ]
  },
  {
   "cell_type": "markdown",
   "metadata": {},
   "source": [
    "## Exercise 8\n",
    "Create a Function to transpose a matrix."
   ]
  },
  {
   "cell_type": "code",
   "execution_count": 10,
   "metadata": {
    "collapsed": true
   },
   "outputs": [],
   "source": [
    "def transpose(A):\n",
    "    #Your code here\n",
    "    pass"
   ]
  },
  {
   "cell_type": "code",
   "execution_count": 11,
   "metadata": {
    "collapsed": true
   },
   "outputs": [],
   "source": [
    "A = [\n",
    "    [1,2,1],\n",
    "    [4,2,7],\n",
    "    [6,4,5],\n",
    "    [7,8,9]\n",
    "]\n",
    "transpose(A)"
   ]
  },
  {
   "cell_type": "code",
   "execution_count": null,
   "metadata": {
    "collapsed": true
   },
   "outputs": [],
   "source": []
  }
 ],
 "metadata": {
  "kernelspec": {
   "display_name": "Python 3",
   "language": "python",
   "name": "python3"
  },
  "language_info": {
   "codemirror_mode": {
    "name": "ipython",
    "version": 3
   },
   "file_extension": ".py",
   "mimetype": "text/x-python",
   "name": "python",
   "nbconvert_exporter": "python",
   "pygments_lexer": "ipython3",
   "version": "3.6.3"
  }
 },
 "nbformat": 4,
 "nbformat_minor": 2
}

{
 "cells": [
  {
   "cell_type": "markdown",
   "metadata": {},
   "source": [
    "# Python 101"
   ]
  },
  {
   "cell_type": "markdown",
   "metadata": {},
   "source": [
    "## _Basic Operations_"
   ]
  },
  {
   "cell_type": "code",
   "execution_count": 1,
   "metadata": {},
   "outputs": [
    {
     "data": {
      "text/plain": [
       "1.0"
      ]
     },
     "execution_count": 1,
     "metadata": {},
     "output_type": "execute_result"
    }
   ],
   "source": [
    "4/4"
   ]
  },
  {
   "cell_type": "code",
   "execution_count": 2,
   "metadata": {},
   "outputs": [],
   "source": [
    "a = \"Hello world\" # Single line comment using (#). Any unassigned string is a comment in python"
   ]
  },
  {
   "cell_type": "code",
   "execution_count": 3,
   "metadata": {},
   "outputs": [
    {
     "name": "stdout",
     "output_type": "stream",
     "text": [
      "Hello world\n"
     ]
    },
    {
     "data": {
      "text/plain": [
       "'\\nMultiline comments using triple parantheses\\nThis is a comment.\\n'"
      ]
     },
     "execution_count": 3,
     "metadata": {},
     "output_type": "execute_result"
    }
   ],
   "source": [
    "print(\"Hello world\")\n",
    "\"\"\"\n",
    "Multiline comments using triple parantheses\n",
    "This is a comment.\n",
    "\"\"\""
   ]
  },
  {
   "cell_type": "markdown",
   "metadata": {},
   "source": [
    "## _Basic String Usage_"
   ]
  },
  {
   "cell_type": "code",
   "execution_count": 4,
   "metadata": {},
   "outputs": [
    {
     "data": {
      "text/plain": [
       "'ab'"
      ]
     },
     "execution_count": 4,
     "metadata": {},
     "output_type": "execute_result"
    }
   ],
   "source": [
    "\"a\"+\"b\""
   ]
  },
  {
   "cell_type": "code",
   "execution_count": 5,
   "metadata": {},
   "outputs": [
    {
     "data": {
      "text/plain": [
       "'a2'"
      ]
     },
     "execution_count": 5,
     "metadata": {},
     "output_type": "execute_result"
    }
   ],
   "source": [
    "\"a\" + str(2) # integer type 2 is typecasted as \"2\" using the str() method"
   ]
  },
  {
   "cell_type": "code",
   "execution_count": 6,
   "metadata": {},
   "outputs": [
    {
     "data": {
      "text/plain": [
       "'Lastai hawa'"
      ]
     },
     "execution_count": 6,
     "metadata": {},
     "output_type": "execute_result"
    }
   ],
   "source": [
    "foo = \"Last book Neil Gaiman had written was nice\"\n",
    "bar = foo[:4]+foo[16:18]+foo[21:24]+foo[34:36]\n",
    "bar"
   ]
  },
  {
   "cell_type": "code",
   "execution_count": 7,
   "metadata": {},
   "outputs": [
    {
     "name": "stdout",
     "output_type": "stream",
     "text": [
      "['This,', 'is', 'a,', 'lot', 'of.', 'splitting.', 'You', 'can,', 'use.', 'any', 'delimeter.', 'as', 'a,', 'character'] \n",
      "['This', ' is a', ' lot of. splitting. You can', ' use. any delimeter. as a', ' character'] \n",
      "['This, is a, lot of', ' splitting', ' You can, use', ' any delimeter', ' as a, character']\n"
     ]
    }
   ],
   "source": [
    "another = \"This, is a, lot of. splitting. You can, use. any delimeter. as a, character\"\n",
    "spaces = another.split(\" \")\n",
    "commas = another.split(\",\")\n",
    "period = another.split(\".\")\n",
    "print(spaces,'\\n'+str(commas),'\\n'+str(period))"
   ]
  },
  {
   "cell_type": "markdown",
   "metadata": {},
   "source": [
    "## _More Data Types_ (Tuple, Lists, Sets)"
   ]
  },
  {
   "cell_type": "markdown",
   "metadata": {},
   "source": [
    "Tuples are a form of an array whose elements can't be individually changed after definition.\n",
    "It is an \"immutable\" or unchangeable data type. String and integer (int) are also immutable\n",
    "The value of these data types can only be changed by redefining them"
   ]
  },
  {
   "cell_type": "code",
   "execution_count": 8,
   "metadata": {},
   "outputs": [
    {
     "name": "stdout",
     "output_type": "stream",
     "text": [
      "(1, 2, 3) The element at index 1 is 2\n"
     ]
    }
   ],
   "source": [
    "atuple = (1,2,3) \n",
    "print(atuple,\"The element at index 1 is\",atuple[1]) \n",
    "# tuple supports element indexing, i.e., atuple[1] produces the second data in tup\n",
    "tuple2 = (1,\"apple\",atuple,(1,2)) # tuples can store heterogenous data types"
   ]
  },
  {
   "cell_type": "code",
   "execution_count": 9,
   "metadata": {},
   "outputs": [
    {
     "name": "stdout",
     "output_type": "stream",
     "text": [
      "Hello, I'm Shelly Duvall.\n"
     ]
    }
   ],
   "source": [
    "alist = [1,2,\"Shelly Duvall.\",(1,2,\"Hello, I'm\")] # lists are mutable or changeable. \n",
    "print(alist[3][2],alist[2]) # both tuples and list support repeated indexing."
   ]
  },
  {
   "cell_type": "code",
   "execution_count": 10,
   "metadata": {},
   "outputs": [
    {
     "name": "stdout",
     "output_type": "stream",
     "text": [
      "Row: [1, 2, 3]\n",
      "Element: 1\n",
      "Element: 2\n",
      "Element: 3\n",
      "Row: [3, 9, 5]\n",
      "Element: 3\n",
      "Element: 9\n",
      "Element: 5\n",
      "Row: [4, 2, 5]\n",
      "Element: 4\n",
      "Element: 2\n",
      "Element: 5\n"
     ]
    }
   ],
   "source": [
    "array = [\n",
    "    [1,2,3],\n",
    "    [3,9,5],\n",
    "    [4,2,5]\n",
    "] # list within a list can be used to form an array of two or more dimensions\n",
    "# looping is simply defined as follows on such and similar data types\n",
    "for r in array: # the syntax is [for <looping_variable> in <iterable_datatype>:] Here row (list) is the iterable datatype\n",
    "    # grouped data are usually iterable datatypes but some custom datatype may not be so.\n",
    "    print(\"Row:\",r) # indentation (4 spaces to the left of loop is the syntax for the block of code in the looping structure)\n",
    "    #another loop can be nested to access data of the row list\n",
    "    for column in r: # nested loop over iterable row\n",
    "        print(\"Element:\", column)\n"
   ]
  },
  {
   "cell_type": "markdown",
   "metadata": {},
   "source": [
    "## _Set Operations_"
   ]
  },
  {
   "cell_type": "code",
   "execution_count": 11,
   "metadata": {},
   "outputs": [
    {
     "name": "stdout",
     "output_type": "stream",
     "text": [
      "A: {1, 2, 3, 4}\n",
      "B: {3, 5, 6}\n",
      "Union is: {1, 2, 3, 4, 5, 6}\n",
      "Intersection is: {3}\n",
      "Difference is: A-B {1, 2, 4} and B-A {5, 6}\n",
      "Symmetric Difference is: {1, 2, 4, 5, 6}\n"
     ]
    }
   ],
   "source": [
    "set1 = {1,2,3,4}\n",
    "set2 = {3,3,5,5,6,6,6} # Duplicate elements in set are not recorded\n",
    "print(\"A: {}\\nB: {}\".format(set1,set2))\n",
    "# Set Operations\n",
    "print(\"Union is:\",set1 | set2) \n",
    "print(\"Intersection is:\",set1 & set2)\n",
    "print(\"Difference is: A-B\",set1-set2,\"and B-A\",set2-set1)\n",
    "print(\"Symmetric Difference is:\",set1^set2)"
   ]
  },
  {
   "cell_type": "markdown",
   "metadata": {},
   "source": [
    "## _Dictionary_"
   ]
  },
  {
   "cell_type": "markdown",
   "metadata": {},
   "source": [
    "<font size=\"3px\">\n",
    "Dictionary Data type consists of the following structure: <br>\n",
    "dictionary_variable = {[key]:[value]} <br>\n",
    "Here, key is an immutable data type while value can be immutable or mutable"
   ]
  },
  {
   "cell_type": "code",
   "execution_count": 12,
   "metadata": {},
   "outputs": [
    {
     "name": "stdout",
     "output_type": "stream",
     "text": [
      "dict_keys(['item', 'model', 1, (1, 2)]) dict_values(['car', 719651, 'apple', [1, 2, 3, 4]])\n",
      "For key item , value is car\n",
      "For key model , value is 719651\n",
      "For key 1 , value is apple\n",
      "For key (1, 2) , value is [1, 2, 3, 4]\n",
      "dict_items([('item', 'car'), ('model', 719651), (1, 'apple'), ((1, 2), [1, 2, 3, 4])])\n"
     ]
    },
    {
     "data": {
      "text/plain": [
       "{}"
      ]
     },
     "execution_count": 12,
     "metadata": {},
     "output_type": "execute_result"
    }
   ],
   "source": [
    "xdict = {\n",
    "    \"item\":\"car\",\n",
    "    \"model\":0xafb23,\n",
    "    1:\"apple\",\n",
    "    (1,2):[1,2,3,4]\n",
    "}\n",
    "xdict[(1,2)]\n",
    "# The keys of a dictionary may be accessed with dict.keys() and values may be accessed with dict.values()\n",
    "print(xdict.keys(),xdict.values()) \n",
    "for key,value in xdict.items():\n",
    "    print(\"For key\",key,\", value is\",value)\n",
    "print(xdict.items())\n",
    "xdict.clear()\n",
    "xdict"
   ]
  },
  {
   "cell_type": "markdown",
   "metadata": {},
   "source": [
    "<h1 style=\"font-family:Calibri\"> Time required for Operations </h1>\n",
    "<font size=\"3px\" style=\"font-family:Calibri\">\n",
    "\n",
    "In order for the programs to be as efficient as possible, one could record the execution time of different operations as\n",
    "required"
   ]
  },
  {
   "cell_type": "markdown",
   "metadata": {},
   "source": [
    "https://ipython.readthedocs.io/en/stable/interactive/magics.html"
   ]
  },
  {
   "cell_type": "code",
   "execution_count": 13,
   "metadata": {},
   "outputs": [
    {
     "name": "stdout",
     "output_type": "stream",
     "text": [
      "31.1 µs ± 6.08 µs per loop (mean ± std. dev. of 7 runs, 100000 loops each)\n"
     ]
    }
   ],
   "source": [
    "def f(x):\n",
    "    return x*x\n",
    "def g(x):\n",
    "    return x*2\n",
    "# %<function> are built-in ipython magic functions \n",
    "%timeit for x in range(100): f(x)"
   ]
  },
  {
   "cell_type": "code",
   "execution_count": 14,
   "metadata": {},
   "outputs": [
    {
     "name": "stdout",
     "output_type": "stream",
     "text": [
      "24.9 µs ± 3.28 µs per loop (mean ± std. dev. of 7 runs, 10000 loops each)\n"
     ]
    }
   ],
   "source": [
    "%timeit for x in range(100): g(x)"
   ]
  },
  {
   "cell_type": "markdown",
   "metadata": {},
   "source": [
    "<font size=\"3px\" style=\"font-family:Calibri\">\n",
    "Or use an import"
   ]
  },
  {
   "cell_type": "code",
   "execution_count": 15,
   "metadata": {},
   "outputs": [
    {
     "data": {
      "text/plain": [
       "[3.5904057663373727, 2.5247945509044882, 2.8868300306744885]"
      ]
     },
     "execution_count": 15,
     "metadata": {},
     "output_type": "execute_result"
    }
   ],
   "source": [
    "import timeit\n",
    "timeit.repeat(\"for x in range(100): f(x)\", \"from __main__ import f\",number=100000)"
   ]
  },
  {
   "cell_type": "markdown",
   "metadata": {},
   "source": [
    "## _Functions_"
   ]
  },
  {
   "cell_type": "code",
   "execution_count": 16,
   "metadata": {},
   "outputs": [
    {
     "name": "stdout",
     "output_type": "stream",
     "text": [
      "Running\n",
      "4\n",
      "Running\n",
      "Apple and Android\n"
     ]
    }
   ],
   "source": [
    "def doth(parameter_x, parameter_y):\n",
    "    print(\"Running\")\n",
    "    return parameter_x+parameter_y\n",
    "# Due to the dynamic type of variables in python, these functions can work with different types if the operations support it\n",
    "print(doth(1,3))\n",
    "print(doth(\"Apple and \",\"Android\"))"
   ]
  },
  {
   "cell_type": "markdown",
   "metadata": {},
   "source": [
    "## _Exceptions_"
   ]
  },
  {
   "cell_type": "markdown",
   "metadata": {},
   "source": [
    "When it is possible that your code may cause a runtime error, you may use the try/except syntax to cleanly structure your code"
   ]
  },
  {
   "cell_type": "code",
   "execution_count": 17,
   "metadata": {},
   "outputs": [
    {
     "name": "stdout",
     "output_type": "stream",
     "text": [
      "0.0\n",
      "No errors until this point.\n",
      "Caught a Zero Division. Oopsie\n"
     ]
    }
   ],
   "source": [
    "a = 0\n",
    "b = 10\n",
    "try:\n",
    "    print(a/b) \n",
    "    print(\"No errors until this point.\")\n",
    "    print(b/a) #raises ZeroDivisionError\n",
    "    #the code jumps to the except block once an exception is raised\n",
    "    print(\"Unreachable code until ZeroDivisonError persists\")\n",
    "except ZeroDivisionError:\n",
    "    print(\"Caught a Zero Division. Oopsie\")"
   ]
  },
  {
   "cell_type": "markdown",
   "metadata": {},
   "source": [
    "It's also possible to customize your own errors should you wish to catch specific error cases in your script. \n",
    "A simple condition check may be performed using assert() that throws an AssertionError if the condition that governs it is not\n",
    "satisied"
   ]
  },
  {
   "cell_type": "code",
   "execution_count": 18,
   "metadata": {},
   "outputs": [
    {
     "name": "stdout",
     "output_type": "stream",
     "text": [
      "2 4\n",
      "Error raised: Assertion Error\n",
      "a must be greater than b\n"
     ]
    }
   ],
   "source": [
    "a = 2\n",
    "b = 4\n",
    "try:\n",
    "    print(a,b)\n",
    "    assert(a>b)\n",
    "except AssertionError:\n",
    "    print(\"Error raised: Assertion Error\")\n",
    "    print(\"a must be greater than b\")"
   ]
  },
  {
   "cell_type": "markdown",
   "metadata": {},
   "source": [
    "Defining custom exceptions"
   ]
  },
  {
   "cell_type": "code",
   "execution_count": 19,
   "metadata": {},
   "outputs": [
    {
     "name": "stdout",
     "output_type": "stream",
     "text": [
      "Enter a number greater than 10: 1\n",
      "Number entered is too low.\n"
     ]
    }
   ],
   "source": [
    "class OneException(Exception):\n",
    "    \"\"\"Raised for script-specific exceptions. Exception 1.\"\"\"\n",
    "class TwoException(Exception):\n",
    "    \"\"\"Raised for script-specific exceptions. Exception 2.\"\"\"\n",
    "i = int(input(\"Enter a number greater than 10: \"))\n",
    "try:\n",
    "    if(i<10):\n",
    "        raise(OneException)\n",
    "    elif(i==10):\n",
    "        raise(TwoException)\n",
    "    else:\n",
    "        print(\"Entry is valid.\")\n",
    "except OneException:\n",
    "    print(\"Number entered is too low.\")\n",
    "except TwoException:\n",
    "    print(\"Number can't be 10\")"
   ]
  },
  {
   "cell_type": "code",
   "execution_count": null,
   "metadata": {
    "collapsed": true
   },
   "outputs": [],
   "source": []
  }
 ],
 "metadata": {
  "kernelspec": {
   "display_name": "Python 3",
   "language": "python",
   "name": "python3"
  },
  "language_info": {
   "codemirror_mode": {
    "name": "ipython",
    "version": 3
   },
   "file_extension": ".py",
   "mimetype": "text/x-python",
   "name": "python",
   "nbconvert_exporter": "python",
   "pygments_lexer": "ipython3",
   "version": "3.6.3"
  }
 },
 "nbformat": 4,
 "nbformat_minor": 2
}

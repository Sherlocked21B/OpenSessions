{
 "cells": [
  {
   "cell_type": "markdown",
   "metadata": {
    "collapsed": true
   },
   "source": [
    "<h1 style=\"font-family:Georgia;font-size:2em\"> Object-Oriented Programming</h1>"
   ]
  },
  {
   "cell_type": "markdown",
   "metadata": {},
   "source": [
    "<font style=\"font-family:Georgia;font-size:17px\">\n",
    "    <a href=\"https://pythoninternal.wordpress.com/2014/08/11/everythings-an-object/\"><p>Everything in python is an object.</a>\n",
    "    <p>Object-oriented programming in python refers to creation, modification, and use of custom classes,\n",
    "    or rather, custom data types.  \n",
    "    <p>Objects are entities that have a set of data and several methods defined for that specific object. They are instances of\n",
    "    a class. A class is a template for what an object is--a sort of abstraction. For example, the definition of a chair is \n",
    "    the 'class' while an actual tangible chair would be an 'object'. \n",
    "    Such a chair has data such as \n",
    "        number_of_legs,\n",
    "        size_of_seat,\n",
    "        presence_of_cushion, etc.\n",
    "    It could have functions such as \n",
    "    increase_height(),\n",
    "    recline(), etc.\n",
    "</font>   "
   ]
  },
  {
   "cell_type": "code",
   "execution_count": 1,
   "metadata": {},
   "outputs": [
    {
     "data": {
      "text/plain": [
       "\"Jack's Chair\""
      ]
     },
     "execution_count": 1,
     "metadata": {},
     "output_type": "execute_result"
    }
   ],
   "source": [
    "class Chair:\n",
    "    def __init__(self, name):\n",
    "        self.name = name # self. notation preceeding a variable indicates that the variable is local to the object\n",
    "jack_chair = Chair(\"Jack's Chair\")\n",
    "jack_chair.name"
   ]
  },
  {
   "cell_type": "markdown",
   "metadata": {},
   "source": [
    ">Additional notes:\n",
    "The first argument that we pass into a class function is always an instance of the class, i.e., an object. It is a common convention to name the object `self`. The variables associated with the object are referenced using the notation `self.variable_name`."
   ]
  },
  {
   "cell_type": "code",
   "execution_count": 2,
   "metadata": {},
   "outputs": [
    {
     "data": {
      "text/plain": [
       "[\"Jack's Chair\", \"Pat's Chair\"]"
      ]
     },
     "execution_count": 2,
     "metadata": {},
     "output_type": "execute_result"
    }
   ],
   "source": [
    "class Chair:\n",
    "    all_chairs = [] # static class variable\n",
    "    def __init__(self, name):\n",
    "        self.name = name\n",
    "        self.all_chairs.append(name)\n",
    "        \n",
    "jack_chair = Chair(\"Jack's Chair\")\n",
    "pat_chair = Chair(\"Pat's Chair\")\n",
    "pat_chair.all_chairs # by definition, prints all chairs' names available"
   ]
  },
  {
   "cell_type": "code",
   "execution_count": 3,
   "metadata": {},
   "outputs": [
    {
     "name": "stdout",
     "output_type": "stream",
     "text": [
      "False\n",
      "Reclined!\n",
      "True\n",
      "False\n",
      "Not a reclining chair. Can't recline.\n",
      "False\n",
      "False\n",
      "Reclined!\n",
      "True\n"
     ]
    }
   ],
   "source": [
    "class Chair:\n",
    "    def __init__(self, num_legs, can_recl, price):\n",
    "        self.number_of_legs = int(num_legs)\n",
    "        self.can_recline = int(can_recl)\n",
    "        self.price = float(price)\n",
    "        self.is_reclined = False\n",
    "    def recline(self): # the self argument is used in each of the member methods.\n",
    "        if(self.can_recline):\n",
    "            self.is_reclined = True\n",
    "            print(\"Reclined!\")\n",
    "        else:\n",
    "            self.is_reclined = False\n",
    "            print(\"Not a reclining chair. Can't recline.\")\n",
    "# File handling\n",
    "x = open(\"chairs.csv\",\"r\")\n",
    "office_chairs = list()\n",
    "for line in x:\n",
    "    values = line.split(',')\n",
    "    number_of_legs, can_recline, price = values[0],values[1],values[2]\n",
    "    office_chairs.append(Chair(number_of_legs,can_recline,price))\n",
    "    \n",
    "for chair in office_chairs:\n",
    "    print(chair.is_reclined)\n",
    "    chair.recline()\n",
    "    print(chair.is_reclined)"
   ]
  }
 ],
 "metadata": {
  "kernelspec": {
   "display_name": "Python 3",
   "language": "python",
   "name": "python3"
  },
  "language_info": {
   "codemirror_mode": {
    "name": "ipython",
    "version": 3
   },
   "file_extension": ".py",
   "mimetype": "text/x-python",
   "name": "python",
   "nbconvert_exporter": "python",
   "pygments_lexer": "ipython3",
   "version": "3.6.3"
  }
 },
 "nbformat": 4,
 "nbformat_minor": 2
}

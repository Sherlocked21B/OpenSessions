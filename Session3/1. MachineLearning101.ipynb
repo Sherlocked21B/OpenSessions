{
 "cells": [
  {
   "cell_type": "markdown",
   "metadata": {
    "slideshow": {
     "slide_type": "skip"
    }
   },
   "source": [
    "<font style=\"background-color:#eeeeee;font-family:Consolas;border-radius:5px;padding:px\"></font>"
   ]
  },
  {
   "cell_type": "markdown",
   "metadata": {
    "slideshow": {
     "slide_type": "slide"
    }
   },
   "source": [
    "# Machine Learning\n",
    "## A Broad Overview\n",
    "Simply stated, it is an implementation of statistics. It works with the available variables (or <font style=\"background-color:#d0d0d0;font-family:Consolas\">features</font>) to understand the data as a whole or to recognize behaviour and patterns in the data. It could be used to\n",
    "- predict house prices\n",
    "- predict some forms of cancer\n",
    "- separate pictures of cats and dogs\n",
    "- distinguish objects in a picture\n",
    "\n",
    "The strength of Machine Learning as a problem solving tool is its usefulness as a general tool. With certain contraints, Machine Learning algorithms may be employed to several diverse problems. Such problems may be better understood once we learn of the different techniques used in Machine Learning. "
   ]
  },
  {
   "cell_type": "markdown",
   "metadata": {
    "slideshow": {
     "slide_type": "notes"
    }
   },
   "source": [
    "The general workflow with Machine Learning models is neatly described with a picture from [here](https://towardsdatascience.com/building-a-deployable-ml-classifier-in-python-46ba55e1d720)"
   ]
  },
  {
   "cell_type": "markdown",
   "metadata": {
    "slideshow": {
     "slide_type": "slide"
    }
   },
   "source": [
    "![Image](https://cdn-images-1.medium.com/max/1600/1*PAqzvCxPjpDN8RC9HQw45w.jpeg)"
   ]
  },
  {
   "cell_type": "markdown",
   "metadata": {
    "slideshow": {
     "slide_type": "notes"
    }
   },
   "source": [
    "We have already visited the first two steps with the previous modules.\n",
    "Now, we will see how we train a model, test it, and improve on it to produce final results"
   ]
  },
  {
   "cell_type": "markdown",
   "metadata": {
    "slideshow": {
     "slide_type": "slide"
    }
   },
   "source": [
    "## The Algorithms\n",
    "There are an enormous number of algorithms in Machine Learning, both shallow and deep, which can be employed to solve tasks specific to those algorithms. A good understanding of these different algorithms and their applications is vital for efficient learning. Following image can be used as a guide to learn the different approaches and algorithms"
   ]
  },
  {
   "cell_type": "markdown",
   "metadata": {
    "slideshow": {
     "slide_type": "subslide"
    }
   },
   "source": [
    "![Machine Learning Algorithms](https://jixta.files.wordpress.com/2015/11/machinelearningalgorithms.png)\n",
    "Different approaches are useful for different problems.\n",
    "[This reference](#deadlink-search-and-include-source) may be useful later on."
   ]
  },
  {
   "cell_type": "markdown",
   "metadata": {
    "slideshow": {
     "slide_type": "slide"
    }
   },
   "source": [
    "## Supervised and Unsupervised\n",
    "There are, generally, two ways to provide input to machine learning algorithms. You can opt to provide a neatly labelled dataset, i.e., one that clearly defined outputs. You can also opt to simply feed the algorithm with a bunch of data and let it work its magic on the data to provide insights that help you understand or provide output to the data on its own. "
   ]
  },
  {
   "cell_type": "markdown",
   "metadata": {
    "slideshow": {
     "slide_type": "subslide"
    }
   },
   "source": [
    "### Supervised\n",
    "Whenever you have data that is labelled, i.e., one that has inputs and outputs clearly defined, then it would be possible to use Supervised learning algorithms. It's name signifies that the data must be 'supervised' which means that the data has been curated and the required outputs are predefined. An example of such a dataset is a housing dataset with all the attributes (or <font style=\"background-color:#eeeeee;font-family:Consolas;border-radius:5px;padding:1px\">features</font>) of a house provided along with its price which what we need to predict (the <font style=\"background-color:#eeeeee;font-family:Consolas;border-radius:5px;padding:1px\">target</font>)"
   ]
  },
  {
   "cell_type": "markdown",
   "metadata": {
    "slideshow": {
     "slide_type": "subslide"
    }
   },
   "source": [
    "A simpler example may be one that involves a hotdog classifier.\n",
    "\n",
    "![Hotdiggidy](https://cdn-images-1.medium.com/max/800/1*D02Abi7rpPUZ_7UG9-kOdw.png)\n",
    "\n",
    "Here, the dataset is clearly defined. Input images of hotdogs must have outputs labelled `hotdogs`. Anything else is, obviously, not a `hotdog`."
   ]
  },
  {
   "cell_type": "markdown",
   "metadata": {
    "slideshow": {
     "slide_type": "subslide"
    }
   },
   "source": [
    "### Unsupervised\n",
    "Here, the dataset is not separated by targets. The algorithm clusters or segments the data by using the patterns that already exist in the data set.\n",
    "These methods are usually used to initially analyze the data to segregate classes but they can also be used independently to model our data all on its own.\n",
    "![](https://www.mathworks.com/matlabcentral/mlc-downloads/downloads/submissions/34412/versions/11/screenshot.png)"
   ]
  },
  {
   "cell_type": "markdown",
   "metadata": {
    "slideshow": {
     "slide_type": "subslide"
    }
   },
   "source": [
    "![](https://pythonhosted.org/scikit-fuzzy/_images/plot_cmeans_1.png)"
   ]
  },
  {
   "cell_type": "markdown",
   "metadata": {
    "slideshow": {
     "slide_type": "slide"
    }
   },
   "source": [
    "## Classification and Regression"
   ]
  },
  {
   "cell_type": "markdown",
   "metadata": {
    "slideshow": {
     "slide_type": "subslide"
    }
   },
   "source": [
    "### Classification\n",
    "Output (<font style=\"background-color:#eeeeee;font-family:Consolas;border-radius:5px;padding:1px\">target</font>) is a discrete or countable value.\n",
    "- Hotdogs or Not Hotdogs\n",
    "- Cats or Dogs"
   ]
  },
  {
   "cell_type": "markdown",
   "metadata": {
    "slideshow": {
     "slide_type": "subslide"
    }
   },
   "source": [
    "### Regression\n",
    "Output (<font style=\"background-color:#eeeeee;font-family:Consolas;border-radius:5px;padding:1px\">target</font>) is a continuous or real value.\n",
    "- Price of houses\n",
    "- Stock prices"
   ]
  },
  {
   "cell_type": "markdown",
   "metadata": {
    "collapsed": true,
    "slideshow": {
     "slide_type": "slide"
    }
   },
   "source": [
    "It would be very helpful if you could follow a specific workflow when dealing with ML problems. You could use the process as outlined by the book [Machine Learning Mastery](http://machinelearningmastery.com/applied-machine-learning-process/). The workflow is as follows:\n",
    "\n",
    "A. Problem definition\n",
    "    1. What is the problem?\n",
    "        - Informal description\n",
    "        - Formal description\n",
    "        - Assumptions\n",
    "        - Similar problems\n",
    "        - Description of provided data\n",
    "    2. Why does the problem need to be solved?\n",
    "        - Motivation\n",
    "        - Benefits\n",
    "        - Use\n",
    "    3. How would I solve the problem (manually)?\n",
    "\n",
    "B. Data analysis\n",
    "    1. Summarize data\n",
    "        - Data structure\n",
    "        - Data distributions\n",
    "            - Correlations with target variable\n",
    "            - Correlations among attributes (redundancy)\n",
    "    2. Visualize data\n",
    "        - Attribute histograms\n",
    "        - Pairwise scatter-plots\n",
    "\n",
    "Access the [source website](http://www.neural.cz/dataset-exploration-boston-house-pricing.html) for the complete walkthrough with this."
   ]
  },
  {
   "cell_type": "code",
   "execution_count": null,
   "metadata": {
    "collapsed": true
   },
   "outputs": [],
   "source": []
  }
 ],
 "metadata": {
  "celltoolbar": "Slideshow",
  "kernelspec": {
   "display_name": "Python 3",
   "language": "python",
   "name": "python3"
  },
  "language_info": {
   "codemirror_mode": {
    "name": "ipython",
    "version": 3
   },
   "file_extension": ".py",
   "mimetype": "text/x-python",
   "name": "python",
   "nbconvert_exporter": "python",
   "pygments_lexer": "ipython3",
   "version": "3.6.3"
  },
  "varInspector": {
   "cols": {
    "lenName": 16,
    "lenType": 16,
    "lenVar": 40
   },
   "kernels_config": {
    "python": {
     "delete_cmd_postfix": "",
     "delete_cmd_prefix": "del ",
     "library": "var_list.py",
     "varRefreshCmd": "print(var_dic_list())"
    },
    "r": {
     "delete_cmd_postfix": ") ",
     "delete_cmd_prefix": "rm(",
     "library": "var_list.r",
     "varRefreshCmd": "cat(var_dic_list()) "
    }
   },
   "types_to_exclude": [
    "module",
    "function",
    "builtin_function_or_method",
    "instance",
    "_Feature"
   ],
   "window_display": false
  }
 },
 "nbformat": 4,
 "nbformat_minor": 2
}
